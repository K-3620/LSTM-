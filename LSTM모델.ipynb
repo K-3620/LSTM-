{
  "nbformat": 4,
  "nbformat_minor": 0,
  "metadata": {
    "colab": {
      "name": "LSTM모델.ipynb",
      "provenance": [],
      "collapsed_sections": [],
      "mount_file_id": "1cWvj5_CZt2fpo-oro2oG2OpDgW0zPIKF",
      "authorship_tag": "ABX9TyPDXrfj0gUTI/lpEV23VPwg",
      "include_colab_link": true
    },
    "kernelspec": {
      "name": "python3",
      "display_name": "Python 3"
    }
  },
  "cells": [
    {
      "cell_type": "markdown",
      "metadata": {
        "id": "view-in-github",
        "colab_type": "text"
      },
      "source": [
        "<a href=\"https://colab.research.google.com/github/K-3620/LSTM-/blob/main/LSTM%EB%AA%A8%EB%8D%B8.ipynb\" target=\"_parent\"><img src=\"https://colab.research.google.com/assets/colab-badge.svg\" alt=\"Open In Colab\"/></a>"
      ]
    },
    {
      "cell_type": "code",
      "metadata": {
        "id": "tcpApqyUvAjP",
        "outputId": "61d2f134-8b61-4621-dd73-695da5d8d7ba",
        "colab": {
          "base_uri": "https://localhost:8080/",
          "height": 450
        }
      },
      "source": [
        "dd = pd.read_csv('/content/drive/My Drive/데이터수집/2010년/2010년.csv',index_col=0)\n",
        "dd"
      ],
      "execution_count": null,
      "outputs": [
        {
          "output_type": "execute_result",
          "data": {
            "text/html": [
              "<div>\n",
              "<style scoped>\n",
              "    .dataframe tbody tr th:only-of-type {\n",
              "        vertical-align: middle;\n",
              "    }\n",
              "\n",
              "    .dataframe tbody tr th {\n",
              "        vertical-align: top;\n",
              "    }\n",
              "\n",
              "    .dataframe thead th {\n",
              "        text-align: right;\n",
              "    }\n",
              "</style>\n",
              "<table border=\"1\" class=\"dataframe\">\n",
              "  <thead>\n",
              "    <tr style=\"text-align: right;\">\n",
              "      <th></th>\n",
              "      <th>Open</th>\n",
              "      <th>High</th>\n",
              "      <th>Low</th>\n",
              "      <th>Close</th>\n",
              "      <th>Volume</th>\n",
              "      <th>Change</th>\n",
              "    </tr>\n",
              "    <tr>\n",
              "      <th>Date</th>\n",
              "      <th></th>\n",
              "      <th></th>\n",
              "      <th></th>\n",
              "      <th></th>\n",
              "      <th></th>\n",
              "      <th></th>\n",
              "    </tr>\n",
              "  </thead>\n",
              "  <tbody>\n",
              "    <tr>\n",
              "      <th>2010-01-04</th>\n",
              "      <td>7540</td>\n",
              "      <td>7820</td>\n",
              "      <td>7480</td>\n",
              "      <td>7520</td>\n",
              "      <td>177197</td>\n",
              "      <td>-0.007916</td>\n",
              "    </tr>\n",
              "    <tr>\n",
              "      <th>2010-01-05</th>\n",
              "      <td>7490</td>\n",
              "      <td>7580</td>\n",
              "      <td>7350</td>\n",
              "      <td>7500</td>\n",
              "      <td>214314</td>\n",
              "      <td>-0.002660</td>\n",
              "    </tr>\n",
              "    <tr>\n",
              "      <th>2010-01-06</th>\n",
              "      <td>7500</td>\n",
              "      <td>7500</td>\n",
              "      <td>7320</td>\n",
              "      <td>7350</td>\n",
              "      <td>81874</td>\n",
              "      <td>-0.020000</td>\n",
              "    </tr>\n",
              "    <tr>\n",
              "      <th>2010-01-07</th>\n",
              "      <td>7350</td>\n",
              "      <td>7420</td>\n",
              "      <td>7200</td>\n",
              "      <td>7210</td>\n",
              "      <td>106474</td>\n",
              "      <td>-0.019048</td>\n",
              "    </tr>\n",
              "    <tr>\n",
              "      <th>2010-01-08</th>\n",
              "      <td>7220</td>\n",
              "      <td>7330</td>\n",
              "      <td>7220</td>\n",
              "      <td>7240</td>\n",
              "      <td>61393</td>\n",
              "      <td>0.004161</td>\n",
              "    </tr>\n",
              "    <tr>\n",
              "      <th>...</th>\n",
              "      <td>...</td>\n",
              "      <td>...</td>\n",
              "      <td>...</td>\n",
              "      <td>...</td>\n",
              "      <td>...</td>\n",
              "      <td>...</td>\n",
              "    </tr>\n",
              "    <tr>\n",
              "      <th>2010-12-24</th>\n",
              "      <td>5120</td>\n",
              "      <td>5120</td>\n",
              "      <td>4990</td>\n",
              "      <td>5070</td>\n",
              "      <td>87767</td>\n",
              "      <td>-0.005882</td>\n",
              "    </tr>\n",
              "    <tr>\n",
              "      <th>2010-12-27</th>\n",
              "      <td>5080</td>\n",
              "      <td>5120</td>\n",
              "      <td>5020</td>\n",
              "      <td>5050</td>\n",
              "      <td>49362</td>\n",
              "      <td>-0.003945</td>\n",
              "    </tr>\n",
              "    <tr>\n",
              "      <th>2010-12-28</th>\n",
              "      <td>5030</td>\n",
              "      <td>5140</td>\n",
              "      <td>5030</td>\n",
              "      <td>5110</td>\n",
              "      <td>80644</td>\n",
              "      <td>0.011881</td>\n",
              "    </tr>\n",
              "    <tr>\n",
              "      <th>2010-12-29</th>\n",
              "      <td>5150</td>\n",
              "      <td>5330</td>\n",
              "      <td>5120</td>\n",
              "      <td>5300</td>\n",
              "      <td>179855</td>\n",
              "      <td>0.037182</td>\n",
              "    </tr>\n",
              "    <tr>\n",
              "      <th>2010-12-30</th>\n",
              "      <td>5330</td>\n",
              "      <td>5360</td>\n",
              "      <td>5200</td>\n",
              "      <td>5290</td>\n",
              "      <td>127582</td>\n",
              "      <td>-0.001887</td>\n",
              "    </tr>\n",
              "  </tbody>\n",
              "</table>\n",
              "<p>251 rows × 6 columns</p>\n",
              "</div>"
            ],
            "text/plain": [
              "            Open  High   Low  Close  Volume    Change\n",
              "Date                                                 \n",
              "2010-01-04  7540  7820  7480   7520  177197 -0.007916\n",
              "2010-01-05  7490  7580  7350   7500  214314 -0.002660\n",
              "2010-01-06  7500  7500  7320   7350   81874 -0.020000\n",
              "2010-01-07  7350  7420  7200   7210  106474 -0.019048\n",
              "2010-01-08  7220  7330  7220   7240   61393  0.004161\n",
              "...          ...   ...   ...    ...     ...       ...\n",
              "2010-12-24  5120  5120  4990   5070   87767 -0.005882\n",
              "2010-12-27  5080  5120  5020   5050   49362 -0.003945\n",
              "2010-12-28  5030  5140  5030   5110   80644  0.011881\n",
              "2010-12-29  5150  5330  5120   5300  179855  0.037182\n",
              "2010-12-30  5330  5360  5200   5290  127582 -0.001887\n",
              "\n",
              "[251 rows x 6 columns]"
            ]
          },
          "metadata": {
            "tags": []
          },
          "execution_count": 6
        }
      ]
    },
    {
      "cell_type": "code",
      "metadata": {
        "id": "YbSVPDndvIxh",
        "outputId": "4d641a67-762d-462a-9740-4f51ddf8925a",
        "colab": {
          "base_uri": "https://localhost:8080/",
          "height": 269
        }
      },
      "source": [
        "dd.info()"
      ],
      "execution_count": null,
      "outputs": [
        {
          "output_type": "stream",
          "text": [
            "<class 'pandas.core.frame.DataFrame'>\n",
            "RangeIndex: 251 entries, 0 to 250\n",
            "Data columns (total 7 columns):\n",
            " #   Column  Non-Null Count  Dtype  \n",
            "---  ------  --------------  -----  \n",
            " 0   Date    251 non-null    object \n",
            " 1   Open    251 non-null    int64  \n",
            " 2   High    251 non-null    int64  \n",
            " 3   Low     251 non-null    int64  \n",
            " 4   Close   251 non-null    int64  \n",
            " 5   Volume  251 non-null    int64  \n",
            " 6   Change  251 non-null    float64\n",
            "dtypes: float64(1), int64(5), object(1)\n",
            "memory usage: 13.9+ KB\n"
          ],
          "name": "stdout"
        }
      ]
    },
    {
      "cell_type": "code",
      "metadata": {
        "id": "QzvA1aU90OJy"
      },
      "source": [
        "import numpy as np\n",
        "import pandas as pd\n",
        "import seaborn as sns\n",
        "import matplotlib.pyplot as plt\n",
        "%matplotlib inline\n",
        "from sklearn.model_selection import train_test_split\n",
        "\n",
        "from keras.models import Model,Sequential\n",
        "from keras.layers import Input,Dense,LSTM,Bidirectional\n",
        "from keras import backend as K\n",
        "from keras.layers.core import Dense, Activation, Dropout\n",
        "from keras.layers.recurrent import LSTM \n",
        "# import lstm, time #도움을 주는 라이브러리들"
      ],
      "execution_count": null,
      "outputs": []
    },
    {
      "cell_type": "code",
      "metadata": {
        "id": "fRuBljym5R62",
        "outputId": "70f44d6d-bdf3-43bf-db86-d44bc531d3d9",
        "colab": {
          "base_uri": "https://localhost:8080/",
          "height": 419
        }
      },
      "source": [
        "df_price = pd.read_csv('/content/drive/My Drive/데이터수집/2010년/2010년.csv',encoding='utf8')\n",
        "df_price"
      ],
      "execution_count": null,
      "outputs": [
        {
          "output_type": "execute_result",
          "data": {
            "text/html": [
              "<div>\n",
              "<style scoped>\n",
              "    .dataframe tbody tr th:only-of-type {\n",
              "        vertical-align: middle;\n",
              "    }\n",
              "\n",
              "    .dataframe tbody tr th {\n",
              "        vertical-align: top;\n",
              "    }\n",
              "\n",
              "    .dataframe thead th {\n",
              "        text-align: right;\n",
              "    }\n",
              "</style>\n",
              "<table border=\"1\" class=\"dataframe\">\n",
              "  <thead>\n",
              "    <tr style=\"text-align: right;\">\n",
              "      <th></th>\n",
              "      <th>Date</th>\n",
              "      <th>Open</th>\n",
              "      <th>High</th>\n",
              "      <th>Low</th>\n",
              "      <th>Close</th>\n",
              "      <th>Volume</th>\n",
              "      <th>Change</th>\n",
              "    </tr>\n",
              "  </thead>\n",
              "  <tbody>\n",
              "    <tr>\n",
              "      <th>0</th>\n",
              "      <td>2010-01-04</td>\n",
              "      <td>7540</td>\n",
              "      <td>7820</td>\n",
              "      <td>7480</td>\n",
              "      <td>7520</td>\n",
              "      <td>177197</td>\n",
              "      <td>-0.007916</td>\n",
              "    </tr>\n",
              "    <tr>\n",
              "      <th>1</th>\n",
              "      <td>2010-01-05</td>\n",
              "      <td>7490</td>\n",
              "      <td>7580</td>\n",
              "      <td>7350</td>\n",
              "      <td>7500</td>\n",
              "      <td>214314</td>\n",
              "      <td>-0.002660</td>\n",
              "    </tr>\n",
              "    <tr>\n",
              "      <th>2</th>\n",
              "      <td>2010-01-06</td>\n",
              "      <td>7500</td>\n",
              "      <td>7500</td>\n",
              "      <td>7320</td>\n",
              "      <td>7350</td>\n",
              "      <td>81874</td>\n",
              "      <td>-0.020000</td>\n",
              "    </tr>\n",
              "    <tr>\n",
              "      <th>3</th>\n",
              "      <td>2010-01-07</td>\n",
              "      <td>7350</td>\n",
              "      <td>7420</td>\n",
              "      <td>7200</td>\n",
              "      <td>7210</td>\n",
              "      <td>106474</td>\n",
              "      <td>-0.019048</td>\n",
              "    </tr>\n",
              "    <tr>\n",
              "      <th>4</th>\n",
              "      <td>2010-01-08</td>\n",
              "      <td>7220</td>\n",
              "      <td>7330</td>\n",
              "      <td>7220</td>\n",
              "      <td>7240</td>\n",
              "      <td>61393</td>\n",
              "      <td>0.004161</td>\n",
              "    </tr>\n",
              "    <tr>\n",
              "      <th>...</th>\n",
              "      <td>...</td>\n",
              "      <td>...</td>\n",
              "      <td>...</td>\n",
              "      <td>...</td>\n",
              "      <td>...</td>\n",
              "      <td>...</td>\n",
              "      <td>...</td>\n",
              "    </tr>\n",
              "    <tr>\n",
              "      <th>246</th>\n",
              "      <td>2010-12-24</td>\n",
              "      <td>5120</td>\n",
              "      <td>5120</td>\n",
              "      <td>4990</td>\n",
              "      <td>5070</td>\n",
              "      <td>87767</td>\n",
              "      <td>-0.005882</td>\n",
              "    </tr>\n",
              "    <tr>\n",
              "      <th>247</th>\n",
              "      <td>2010-12-27</td>\n",
              "      <td>5080</td>\n",
              "      <td>5120</td>\n",
              "      <td>5020</td>\n",
              "      <td>5050</td>\n",
              "      <td>49362</td>\n",
              "      <td>-0.003945</td>\n",
              "    </tr>\n",
              "    <tr>\n",
              "      <th>248</th>\n",
              "      <td>2010-12-28</td>\n",
              "      <td>5030</td>\n",
              "      <td>5140</td>\n",
              "      <td>5030</td>\n",
              "      <td>5110</td>\n",
              "      <td>80644</td>\n",
              "      <td>0.011881</td>\n",
              "    </tr>\n",
              "    <tr>\n",
              "      <th>249</th>\n",
              "      <td>2010-12-29</td>\n",
              "      <td>5150</td>\n",
              "      <td>5330</td>\n",
              "      <td>5120</td>\n",
              "      <td>5300</td>\n",
              "      <td>179855</td>\n",
              "      <td>0.037182</td>\n",
              "    </tr>\n",
              "    <tr>\n",
              "      <th>250</th>\n",
              "      <td>2010-12-30</td>\n",
              "      <td>5330</td>\n",
              "      <td>5360</td>\n",
              "      <td>5200</td>\n",
              "      <td>5290</td>\n",
              "      <td>127582</td>\n",
              "      <td>-0.001887</td>\n",
              "    </tr>\n",
              "  </tbody>\n",
              "</table>\n",
              "<p>251 rows × 7 columns</p>\n",
              "</div>"
            ],
            "text/plain": [
              "           Date  Open  High   Low  Close  Volume    Change\n",
              "0    2010-01-04  7540  7820  7480   7520  177197 -0.007916\n",
              "1    2010-01-05  7490  7580  7350   7500  214314 -0.002660\n",
              "2    2010-01-06  7500  7500  7320   7350   81874 -0.020000\n",
              "3    2010-01-07  7350  7420  7200   7210  106474 -0.019048\n",
              "4    2010-01-08  7220  7330  7220   7240   61393  0.004161\n",
              "..          ...   ...   ...   ...    ...     ...       ...\n",
              "246  2010-12-24  5120  5120  4990   5070   87767 -0.005882\n",
              "247  2010-12-27  5080  5120  5020   5050   49362 -0.003945\n",
              "248  2010-12-28  5030  5140  5030   5110   80644  0.011881\n",
              "249  2010-12-29  5150  5330  5120   5300  179855  0.037182\n",
              "250  2010-12-30  5330  5360  5200   5290  127582 -0.001887\n",
              "\n",
              "[251 rows x 7 columns]"
            ]
          },
          "metadata": {
            "tags": []
          },
          "execution_count": 2
        }
      ]
    },
    {
      "cell_type": "code",
      "metadata": {
        "id": "0K7QmZA_mY52",
        "outputId": "9717618f-c816-4206-9fdd-54ff0e9cfe51",
        "colab": {
          "base_uri": "https://localhost:8080/",
          "height": 269
        }
      },
      "source": [
        "df_price.info()"
      ],
      "execution_count": null,
      "outputs": [
        {
          "output_type": "stream",
          "text": [
            "<class 'pandas.core.frame.DataFrame'>\n",
            "RangeIndex: 251 entries, 0 to 250\n",
            "Data columns (total 7 columns):\n",
            " #   Column  Non-Null Count  Dtype  \n",
            "---  ------  --------------  -----  \n",
            " 0   Date    251 non-null    object \n",
            " 1   Open    251 non-null    int64  \n",
            " 2   High    251 non-null    int64  \n",
            " 3   Low     251 non-null    int64  \n",
            " 4   Close   251 non-null    int64  \n",
            " 5   Volume  251 non-null    int64  \n",
            " 6   Change  251 non-null    float64\n",
            "dtypes: float64(1), int64(5), object(1)\n",
            "memory usage: 13.9+ KB\n"
          ],
          "name": "stdout"
        }
      ]
    },
    {
      "cell_type": "code",
      "metadata": {
        "id": "cUQcp85J6owz"
      },
      "source": [
        "#날짜 datetime 포맷으로 변환\n",
        "pd.to_datetime(df_price['Date'], format='%Y-%m-%d')\n",
        "\n",
        "df_price['Date'] = pd.to_datetime(df_price['Date'], format='%Y-%m-%d')\n",
        "df_price['Year'] =df_price['Date'].dt.year\n",
        "df_price['Month'] =df_price['Date'].dt.month\n",
        "df_price['Day'] =df_price['Date'].dt.day"
      ],
      "execution_count": null,
      "outputs": []
    },
    {
      "cell_type": "code",
      "metadata": {
        "id": "frwzy7UZERbq",
        "outputId": "7d8cd12d-6eca-4edf-a271-02677562a701",
        "colab": {
          "base_uri": "https://localhost:8080/",
          "height": 204
        }
      },
      "source": [
        "# Normalization - 정규화\n",
        "from sklearn.preprocessing import MinMaxScaler\n",
        "scaler = MinMaxScaler()\n",
        "scale_clos = ['Open','High','Low','Close','Volume']\n",
        "df_scaled = scaler.fit_transform(df_price[scale_clos])\n",
        "\n",
        "df_scaled = pd.DataFrame(data=df_scaled,columns=scale_clos)\n",
        "\n",
        "df_scaled.head()"
      ],
      "execution_count": null,
      "outputs": [
        {
          "output_type": "execute_result",
          "data": {
            "text/html": [
              "<div>\n",
              "<style scoped>\n",
              "    .dataframe tbody tr th:only-of-type {\n",
              "        vertical-align: middle;\n",
              "    }\n",
              "\n",
              "    .dataframe tbody tr th {\n",
              "        vertical-align: top;\n",
              "    }\n",
              "\n",
              "    .dataframe thead th {\n",
              "        text-align: right;\n",
              "    }\n",
              "</style>\n",
              "<table border=\"1\" class=\"dataframe\">\n",
              "  <thead>\n",
              "    <tr style=\"text-align: right;\">\n",
              "      <th></th>\n",
              "      <th>Open</th>\n",
              "      <th>High</th>\n",
              "      <th>Low</th>\n",
              "      <th>Close</th>\n",
              "      <th>Volume</th>\n",
              "    </tr>\n",
              "  </thead>\n",
              "  <tbody>\n",
              "    <tr>\n",
              "      <th>0</th>\n",
              "      <td>1.000000</td>\n",
              "      <td>1.000000</td>\n",
              "      <td>1.000000</td>\n",
              "      <td>1.000000</td>\n",
              "      <td>0.366090</td>\n",
              "    </tr>\n",
              "    <tr>\n",
              "      <th>1</th>\n",
              "      <td>0.982517</td>\n",
              "      <td>0.922204</td>\n",
              "      <td>0.955172</td>\n",
              "      <td>0.993080</td>\n",
              "      <td>0.450800</td>\n",
              "    </tr>\n",
              "    <tr>\n",
              "      <th>2</th>\n",
              "      <td>0.986014</td>\n",
              "      <td>0.896272</td>\n",
              "      <td>0.944828</td>\n",
              "      <td>0.941176</td>\n",
              "      <td>0.148538</td>\n",
              "    </tr>\n",
              "    <tr>\n",
              "      <th>3</th>\n",
              "      <td>0.933566</td>\n",
              "      <td>0.870340</td>\n",
              "      <td>0.903448</td>\n",
              "      <td>0.892734</td>\n",
              "      <td>0.204682</td>\n",
              "    </tr>\n",
              "    <tr>\n",
              "      <th>4</th>\n",
              "      <td>0.888112</td>\n",
              "      <td>0.841167</td>\n",
              "      <td>0.910345</td>\n",
              "      <td>0.903114</td>\n",
              "      <td>0.101795</td>\n",
              "    </tr>\n",
              "  </tbody>\n",
              "</table>\n",
              "</div>"
            ],
            "text/plain": [
              "       Open      High       Low     Close    Volume\n",
              "0  1.000000  1.000000  1.000000  1.000000  0.366090\n",
              "1  0.982517  0.922204  0.955172  0.993080  0.450800\n",
              "2  0.986014  0.896272  0.944828  0.941176  0.148538\n",
              "3  0.933566  0.870340  0.903448  0.892734  0.204682\n",
              "4  0.888112  0.841167  0.910345  0.903114  0.101795"
            ]
          },
          "metadata": {
            "tags": []
          },
          "execution_count": 11
        }
      ]
    },
    {
      "cell_type": "code",
      "metadata": {
        "id": "F6AtBZuCtA5C"
      },
      "source": [
        "train = df_scaled[:200]\n",
        "test = df_scaled[200:]"
      ],
      "execution_count": null,
      "outputs": []
    },
    {
      "cell_type": "code",
      "metadata": {
        "id": "DXxzVrw607hn"
      },
      "source": [
        "# 학습 시킬 데이터 셋 생성 함수\n",
        "# 30일 기반으로 데이터 셋 묶기\n",
        "def make_dataset(data,label,window_size=30):\n",
        "  feature_list =[] # 학습\n",
        "  label_list =[] # 답\n",
        "  for i in range(len(data)-window_size):\n",
        "    feature_list.append(np.array(data.iloc[i:i+window_size]))\n",
        "    label_list.append(np.array(label.iloc[i+window_size]))\n",
        "  return np.array(feature_list),np.array(label_list)"
      ],
      "execution_count": null,
      "outputs": []
    },
    {
      "cell_type": "code",
      "metadata": {
        "id": "wGdADv8D2KWe"
      },
      "source": [
        "feature_cols = ['Open','High','Low','Volume'] # 학습 컬럼\n",
        "label_cols = ['Close'] # 답 컬럼\n",
        "\n",
        "train_feature = train[feature_cols]\n",
        "train_label = train[label_cols]\n",
        "\n",
        "# train dataset\n",
        "train_feature,train_label = make_dataset(train_feature,train_label,30)\n",
        "\n",
        "# train,test set 생성\n",
        "X_train,X_test,y_train,y_test = \\\n",
        "train_test_split(train_feature,train_label,test_size=0.2,random_state=0)\n",
        "\n",
        "test_feature = test[feature_cols]\n",
        "test_label = test[label_cols]\n",
        "\n",
        "# test dataset(실제 예측 데이터)\n",
        "test_feature,test_label = make_dataset(test_feature,test_label,30)"
      ],
      "execution_count": null,
      "outputs": []
    },
    {
      "cell_type": "code",
      "metadata": {
        "id": "6qs7YJx483B9"
      },
      "source": [
        "# Keras를 활용한 LSTM 모델 생성\n",
        "model = Sequential()\n",
        "model.add(LSTM(\n",
        "    16\n",
        "    ,input_shape=(train_feature.shape[1],train_feature.shape[2])\n",
        "    ,activation='relu'\n",
        "    ,return_sequences = False\n",
        "))\n",
        "model.add(Dense(1))"
      ],
      "execution_count": null,
      "outputs": []
    },
    {
      "cell_type": "code",
      "metadata": {
        "id": "Ysy6OcZ8K-H7"
      },
      "source": [
        "import os\n",
        "from keras.callbacks import EarlyStopping,ModelCheckpoint"
      ],
      "execution_count": null,
      "outputs": []
    },
    {
      "cell_type": "code",
      "metadata": {
        "id": "8nbbQsKM-Pso",
        "outputId": "115319d8-566b-4fda-d13c-a49ba100c937",
        "colab": {
          "base_uri": "https://localhost:8080/",
          "height": 1000
        }
      },
      "source": [
        "# 모델의 학습\n",
        "model.compile(loss='mean_squared_error',optimizer='adam')\n",
        "model.summary()\n",
        "\n",
        "early_stop = EarlyStopping(monitor='loss',patience=1,verbose=1)\n",
        "\n",
        "model.fit(X_train,y_train,epochs=200,batch_size=16\n",
        "                   ,validation_data=(X_test,y_test)\n",
        "                   ,callbacks=[early_stop])"
      ],
      "execution_count": null,
      "outputs": [
        {
          "output_type": "stream",
          "text": [
            "Model: \"sequential\"\n",
            "_________________________________________________________________\n",
            "Layer (type)                 Output Shape              Param #   \n",
            "=================================================================\n",
            "lstm (LSTM)                  (None, 16)                1344      \n",
            "_________________________________________________________________\n",
            "dense (Dense)                (None, 1)                 17        \n",
            "=================================================================\n",
            "Total params: 1,361\n",
            "Trainable params: 1,361\n",
            "Non-trainable params: 0\n",
            "_________________________________________________________________\n",
            "Epoch 1/200\n",
            "9/9 [==============================] - 0s 37ms/step - loss: 0.1805 - val_loss: 0.1466\n",
            "Epoch 2/200\n",
            "9/9 [==============================] - 0s 12ms/step - loss: 0.1292 - val_loss: 0.1082\n",
            "Epoch 3/200\n",
            "9/9 [==============================] - 0s 12ms/step - loss: 0.0958 - val_loss: 0.0785\n",
            "Epoch 4/200\n",
            "9/9 [==============================] - 0s 12ms/step - loss: 0.0675 - val_loss: 0.0502\n",
            "Epoch 5/200\n",
            "9/9 [==============================] - 0s 11ms/step - loss: 0.0388 - val_loss: 0.0179\n",
            "Epoch 6/200\n",
            "9/9 [==============================] - 0s 11ms/step - loss: 0.0133 - val_loss: 0.0167\n",
            "Epoch 7/200\n",
            "9/9 [==============================] - 0s 13ms/step - loss: 0.0118 - val_loss: 0.0096\n",
            "Epoch 8/200\n",
            "9/9 [==============================] - 0s 13ms/step - loss: 0.0112 - val_loss: 0.0099\n",
            "Epoch 9/200\n",
            "9/9 [==============================] - 0s 12ms/step - loss: 0.0096 - val_loss: 0.0084\n",
            "Epoch 10/200\n",
            "9/9 [==============================] - 0s 11ms/step - loss: 0.0084 - val_loss: 0.0076\n",
            "Epoch 11/200\n",
            "9/9 [==============================] - 0s 13ms/step - loss: 0.0076 - val_loss: 0.0070\n",
            "Epoch 12/200\n",
            "9/9 [==============================] - 0s 12ms/step - loss: 0.0071 - val_loss: 0.0066\n",
            "Epoch 13/200\n",
            "9/9 [==============================] - 0s 11ms/step - loss: 0.0067 - val_loss: 0.0064\n",
            "Epoch 14/200\n",
            "9/9 [==============================] - 0s 12ms/step - loss: 0.0063 - val_loss: 0.0059\n",
            "Epoch 15/200\n",
            "9/9 [==============================] - 0s 13ms/step - loss: 0.0062 - val_loss: 0.0058\n",
            "Epoch 16/200\n",
            "9/9 [==============================] - 0s 12ms/step - loss: 0.0059 - val_loss: 0.0055\n",
            "Epoch 17/200\n",
            "9/9 [==============================] - 0s 12ms/step - loss: 0.0059 - val_loss: 0.0053\n",
            "Epoch 18/200\n",
            "9/9 [==============================] - 0s 13ms/step - loss: 0.0055 - val_loss: 0.0052\n",
            "Epoch 19/200\n",
            "9/9 [==============================] - 0s 13ms/step - loss: 0.0054 - val_loss: 0.0053\n",
            "Epoch 20/200\n",
            "9/9 [==============================] - 0s 12ms/step - loss: 0.0053 - val_loss: 0.0050\n",
            "Epoch 21/200\n",
            "9/9 [==============================] - 0s 11ms/step - loss: 0.0052 - val_loss: 0.0050\n",
            "Epoch 22/200\n",
            "9/9 [==============================] - 0s 12ms/step - loss: 0.0050 - val_loss: 0.0050\n",
            "Epoch 23/200\n",
            "9/9 [==============================] - 0s 12ms/step - loss: 0.0050 - val_loss: 0.0048\n",
            "Epoch 24/200\n",
            "9/9 [==============================] - 0s 11ms/step - loss: 0.0052 - val_loss: 0.0049\n",
            "Epoch 00024: early stopping\n"
          ],
          "name": "stdout"
        },
        {
          "output_type": "execute_result",
          "data": {
            "text/plain": [
              "<tensorflow.python.keras.callbacks.History at 0x7fbf2dedcb70>"
            ]
          },
          "metadata": {
            "tags": []
          },
          "execution_count": 27
        }
      ]
    },
    {
      "cell_type": "code",
      "metadata": {
        "id": "QFpgCuQ1Wttv"
      },
      "source": [
        "# 예측\n",
        "pred =model.predict(test_feature)"
      ],
      "execution_count": null,
      "outputs": []
    },
    {
      "cell_type": "code",
      "metadata": {
        "id": "7mXUwtxEf4mn",
        "outputId": "54499b37-704b-4879-f758-65ca221548ff",
        "colab": {
          "base_uri": "https://localhost:8080/",
          "height": 537
        }
      },
      "source": [
        "# 시각화\n",
        "plt.figure(figsize=(12,9))\n",
        "plt.plot(test_label,label='actual')\n",
        "plt.plot(pred,label='predicition')\n",
        "plt.legend()\n",
        "plt.show()"
      ],
      "execution_count": null,
      "outputs": [
        {
          "output_type": "display_data",
          "data": {
            "image/png": "[encoded data removed]",
            "text/plain": [
              "<Figure size 864x648 with 1 Axes>"
            ]
          },
          "metadata": {
            "tags": [],
            "needs_background": "light"
          }
        }
      ]
    },
    {
      "cell_type": "code",
      "metadata": {
        "id": "hj7XCBNhgMFb"
      },
      "source": [
        ""
      ],
      "execution_count": null,
      "outputs": []
    }
  ]
}